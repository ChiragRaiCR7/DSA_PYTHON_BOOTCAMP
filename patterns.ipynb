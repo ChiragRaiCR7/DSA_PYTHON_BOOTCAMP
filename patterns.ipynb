{
 "cells": [
  {
   "cell_type": "code",
   "execution_count": 1,
   "metadata": {},
   "outputs": [
    {
     "name": "stdout",
     "output_type": "stream",
     "text": [
      "['*****', '*****', '*****', '*****', '*****']\n"
     ]
    }
   ],
   "source": [
    "def generate_square(n):\n",
    "    \"\"\"\n",
    "    Function to return a square pattern of '*' of side n as a list of strings.\n",
    "    Parameters:\n",
    "    n (int): The size of the square.\n",
    "    Returns:\n",
    "    list: A list of strings where each string represents a row of the square.\n",
    "    Problem Description: You are given an integer n. Your task is to return a square pattern of size n x n made up of the character '*', represented as a list of strings.\n",
    "Input Parameters:\n",
    "n (int): The size of the square (number of rows and columns).\n",
    "Output:\n",
    "A list of strings where each string is a row of n characters.\n",
    "Example:\n",
    "Input: 3\n",
    "Output: ['***', '***', '***']\n",
    "Input: 5\n",
    "Output: ['*****', '*****', '*****', '*****', '*****']\n",
    "    \"\"\"\n",
    "    # Your code here\n",
    "    lst=[]\n",
    "    lts=[\"*\"*n]\n",
    "    for i in range(n):\n",
    "        lst+=lts\n",
    "    print(lst)\n",
    "n=int(input(\"Enter a Number\"))\n",
    "generate_square(n)"
   ]
  },
  {
   "cell_type": "code",
   "execution_count": 15,
   "metadata": {},
   "outputs": [
    {
     "name": "stdout",
     "output_type": "stream",
     "text": [
      "['*****', '*   *', '*   *', '*   *', '*****']\n"
     ]
    }
   ],
   "source": [
    "def generate_hollow_square(n):\n",
    "    \"\"\"\n",
    "    Function to return a hollow square pattern of '*' of side n as a list of strings.\n",
    "    \n",
    "    Parameters:\n",
    "    n (int): The size of the square.\n",
    "    \n",
    "    Returns:\n",
    "    list: A list of strings where each string represents a row of the hollow square.\n",
    "Hollow Square of side 'N'\n",
    "Problem Description:\n",
    "You are given an integer n. Your task is to return a hollow square pattern of size n x n made up of the character '*', represented as a list of strings. The hollow square has '*' on the border, and spaces ' ' in the middle (except for side lengths of 1 and 2).\n",
    "Input Parameters:\n",
    "n (int): The size of the square (number of rows and columns).\n",
    "Output:\n",
    "A list of strings where each string is a row of n characters, representing a hollow square.\n",
    "Example:\n",
    "Input: 3\n",
    "Output: ['***', '* *', '***']\n",
    "Input: 5\n",
    "Output: ['*****', '*   *', '*   *', '*   *', '*****']\n",
    "    \"\"\"\n",
    "    # Your code here\n",
    "    if n==1:\n",
    "        return [\"*\"]\n",
    "    elif n==2:\n",
    "        return [\"**\",\"**\"]\n",
    "    lst= []    \n",
    "    lst.append(\"*\"*n)\n",
    "    for i in range(n-2):\n",
    "        lst.append(\"*\" + (\" \" * (n-2)) + \"*\")\n",
    "    lst.append(\"*\"*n)\n",
    "    return lst\n",
    "n=int(input(\"Enter a Number\"))\n",
    "print(generate_hollow_square(n))"
   ]
  },
  {
   "cell_type": "code",
   "execution_count": 20,
   "metadata": {},
   "outputs": [
    {
     "name": "stdout",
     "output_type": "stream",
     "text": [
      "['*****', '*****', '*****', '*****']\n"
     ]
    }
   ],
   "source": [
    "def generate_rectangle(n, m):\n",
    "    \"\"\"\n",
    "    Function to return a rectangle pattern of '*' with length n and breadth m as a list of strings.\n",
    "    Parameters:\n",
    "    n (int): The number of rows in the rectangle.\n",
    "    m (int): The number of columns in the rectangle.\n",
    "    Returns:\n",
    "    list: A list of strings where each string represents a row of the rectangle pattern.\n",
    "Rectangle Pattern\n",
    "Problem Description:\n",
    "You are given two integers, n and m. Your task is to return a rectangle pattern of '*', where n represents the number of rows (length) and m represents the number of columns (breadth).\n",
    "Input:\n",
    "Two integers n and m, where 1 <= n, m <= 100.\n",
    "Output:\n",
    "A list of strings where each string represents a row of the rectangle pattern.\n",
    "Example:\n",
    "Input: n = 4, m = 5\n",
    "Output: ['*****', '*****', '*****', '*****'] \n",
    "Input: n = 3, m = 2\n",
    "Output: ['**', '**', '**']\n",
    "\n",
    "    \"\"\"\n",
    "    # Your code here\n",
    "    lst=[]\n",
    "    for i in range(n):\n",
    "        lst.append(m*\"*\")\n",
    "    return lst            \n",
    "n=int(input(\"Enter a Number\"))\n",
    "m=int(input(\"Enter a Number\"))\n",
    "print(generate_rectangle(n, m))"
   ]
  },
  {
   "cell_type": "code",
   "execution_count": 23,
   "metadata": {},
   "outputs": [
    {
     "name": "stdout",
     "output_type": "stream",
     "text": [
      "['*', '**', '***']\n"
     ]
    }
   ],
   "source": [
    "def generate_triangle(n):\n",
    "    \"\"\"\n",
    "    Function to return a right-angled triangle of '*' of side n as a list of strings.\n",
    "    Parameters:\n",
    "    n (int): The height and base of the triangle.\n",
    "    Returns:\n",
    "    list: A list of strings where each string represents a row of the triangle.\n",
    "    Right Angled Triangle\n",
    "Problem Description:\n",
    "You are given an integer n. Your task is to return a right-angled triangle pattern of '*' where each side has n characters, represented as a list of strings. The triangle has '*' characters, starting with 1 star in the first row, 2 stars in the second row, and so on until the last row has n stars.\n",
    "Input Parameters:\n",
    "n (int): The height and base of the right-angled triangle.\n",
    "Output:\n",
    "A list of strings where each string is a row of '*' characters that increases in length from 1 to n.\n",
    "Example:\n",
    "Input: 3\n",
    "Output: ['*', '**', '***'] \n",
    "Input: 5\n",
    "Output: ['*', '**', '***', '****', '*****']\n",
    "\n",
    "    \"\"\"\n",
    "    # Your code here\n",
    "    lst=[]\n",
    "    for i in range(1,n+1):\n",
    "        lst.append(i*\"*\")\n",
    "    return lst \n",
    "n=int(input(\"Enter a Number\"))\n",
    "print(generate_triangle(n))"
   ]
  },
  {
   "cell_type": "code",
   "execution_count": 30,
   "metadata": {},
   "outputs": [
    {
     "name": "stdout",
     "output_type": "stream",
     "text": [
      "['***', '**', '*']\n"
     ]
    }
   ],
   "source": [
    "def generate_inverted_triangle(n):\n",
    "    \"\"\"\n",
    "    Function to return an inverted right-angled triangle of '*' of side n as a list of strings.\n",
    "    Parameters:\n",
    "    n (int): The height and base of the triangle.\n",
    "    Returns:\n",
    "    list: A list of strings where each string represents a row of the triangle.\n",
    "    Inverted Right Angled Triangle\n",
    "    Problem Description:\n",
    "You are given an integer n. Your task is to return an inverted right-angled triangle pattern of '*' where each side has n characters, represented as a list of strings. The first row should have n stars, the second row n-1 stars, and so on, until the last row has 1 star.\n",
    "Input Parameters:\n",
    "n (int): The height and base of the inverted right-angled triangle.\n",
    "Output:\n",
    "A list of strings where each string is a row of '*' characters that decreases in length from n to 1.\n",
    "Example:\n",
    "Input: 3\n",
    "Output: ['***', '**', '*']\n",
    "Input: 5\n",
    "Output: ['*****', '****', '***', '**', '*']\n",
    "    \"\"\"\n",
    "    # Your code here\n",
    "    # Your code here\n",
    "    lst=[]\n",
    "    for i in range(n,0,-1):\n",
    "        lst.append(i*\"*\")\n",
    "    return lst \n",
    "n=int(input(\"Enter a Number\"))\n",
    "print(generate_inverted_triangle(n))"
   ]
  },
  {
   "cell_type": "code",
   "execution_count": 42,
   "metadata": {},
   "outputs": [
    {
     "name": "stdout",
     "output_type": "stream",
     "text": [
      "['  *  ', ' *** ', '*****']\n"
     ]
    }
   ],
   "source": [
    "def generate_pyramid(n):\n",
    "    \"\"\"\n",
    "    Function to return a pyramid pattern of '*' of side n as a list of strings.\n",
    "    Parameters:\n",
    "    n (int): The number of rows in the pyramid.\n",
    "    Returns:\n",
    "    list: A list of strings where each string represents a row of the pyramid.\n",
    "    Pyramid Pattern\n",
    "Problem Description:\n",
    "You are given an integer n. Your task is to return a pyramid pattern of '*' where each side has n rows, represented as a list of strings. The pyramid is centered, with 1 star in the first row, 3 stars in the second row, and so on, increasing by 2 stars per row until the base row has 2n - 1 stars.\n",
    "Input:\n",
    "A single integer n, where 1 <= n <= 100.\n",
    "Output:\n",
    "A list of strings where each string contains stars ('*') centered, forming a pyramid shape. Each row has an increasing number of stars, with appropriate spaces for centering.\n",
    "Example:\n",
    "Input: 3\n",
    "Output: ['  *  ', ' *** ', '*****']\n",
    "Input: 5\n",
    "Output: ['    *    ', '   ***   ', '  *****  ', ' ******* ', '*********']\n",
    "    \"\"\"\n",
    "    # Your code here\n",
    "    lst=[]\n",
    "    stars=((2*n)-1)\n",
    "    for i in range(1,stars+1,2):\n",
    "            # lst.append(i*\"*\")\n",
    "             lst.append(\" \"*((stars-i)//2) +(i*\"*\")+\" \"*((stars-i)//2))\n",
    "    return lst \n",
    "n=int(input(\"Enter a Number\"))\n",
    "print(generate_pyramid(n))\n"
   ]
  },
  {
   "cell_type": "code",
   "execution_count": 52,
   "metadata": {},
   "outputs": [
    {
     "name": "stdout",
     "output_type": "stream",
     "text": [
      "['*****', ' *** ', '  *  ']\n"
     ]
    }
   ],
   "source": [
    "def generate_inverted_pyramid(n):\n",
    "    \"\"\"\n",
    "    Function to return an inverted pyramid pattern of '*' of side n as a list of strings.\n",
    "    Parameters:\n",
    "    n (int): The number of rows in the inverted pyramid.\n",
    "    Returns:\n",
    "    list: A list of strings where each string represents a row of the inverted pyramid.\n",
    "    Inverted Pyramid Pattern\n",
    "Problem Description\n",
    "You are given an integer n. Your task is to return an inverted pyramid pattern of '*', where each side has n rows, represented as a list of strings. The first row has 2n - 1 stars, the second row has 2n - 3 stars, and so on, until the last row has 1 star, with each row centered using spaces.\n",
    "Input Parameters:\n",
    "n (int): The number of rows in the inverted pyramid.\n",
    "Output:\n",
    "A list of strings where each string represents a row of the inverted pyramid.\n",
    "Example:\n",
    "Input: 3\n",
    "Output: ['*****', ' *** ', '  *  ']\n",
    "Input: 5\n",
    "Output: ['*********', ' ******* ', '  *****  ', '   ***   ', '    *    ']\n",
    "    \"\"\"\n",
    "    # Your code here\n",
    "    lst=[]\n",
    "    stars=((2*n)-1)\n",
    "    for i in range(stars,0,-2):\n",
    "             lst.append(\" \"*((stars-i)//2) +(i*\"*\")+\" \"*((stars-i)//2))\n",
    "    return lst \n",
    "n=int(input(\"Enter a Number\"))\n",
    "print(generate_inverted_pyramid(n))\n",
    "    "
   ]
  },
  {
   "cell_type": "code",
   "execution_count": 59,
   "metadata": {},
   "outputs": [
    {
     "name": "stdout",
     "output_type": "stream",
     "text": [
      "['1', '22', '333', '4444', '55555']\n"
     ]
    }
   ],
   "source": [
    "def generate_number_triangle(n):\n",
    "    \"\"\"\n",
    "    Function to return a right-angled triangle of repeated numbers of side n as a list of strings.\n",
    "    Parameters:\n",
    "    n (int): The height of the triangle.\n",
    "    Returns:\n",
    "    list: A list of strings where each string represents a row of the triangle.\n",
    "    Right Angled Triangle with Numbers\n",
    "Problem Description:\n",
    "You are given an integer n. Your task is to return a right-angled triangle pattern where each row contains repeated digits. The first row contains the number 1 repeated once, the second row contains the number 2 repeated twice, and so on until the nth row contains the number n repeated n times.\n",
    "Input:\n",
    "A single integer n, where 1 <= n <= 100.\n",
    "Output:\n",
    "A list of strings where each string represents a row in the triangle. The ith row contains the digit i repeated i times.\n",
    "Example:\n",
    "Input: 5\n",
    "Output: ['1', '22', '333', '4444', '55555']\n",
    "Input: 3\n",
    "Output: ['1', '22', '333']\n",
    "    \"\"\"\n",
    "    # Your code here\n",
    "    lst=[]\n",
    "    for i in range(1,n+1):\n",
    "        lst.append(f\"{i}\"*i)\n",
    "    return lst \n",
    "n=int(input(\"Enter a Number\"))\n",
    "print(generate_number_triangle(n))\n"
   ]
  },
  {
   "cell_type": "code",
   "execution_count": 62,
   "metadata": {},
   "outputs": [
    {
     "name": "stdout",
     "output_type": "stream",
     "text": [
      "[0, 1, 0, 1, 2, 0, 1, 2, 3, 0, 1, 2, 3, 4, 0, 1, 2, 3, 4, 5]\n"
     ]
    }
   ],
   "source": [
    "def generate_floyds_triangle(n):\n",
    "    \"\"\"\n",
    "    Function to return the first n rows of Floyd's Triangle as a list of strings.\n",
    "    Parameters:\n",
    "    n (int): The number of rows in the triangle.\n",
    "    Returns:\n",
    "    list: A list of strings where each string represents a row of Floyd's Triangle.\n",
    "    Floyds Triangle\n",
    "Problem Description:\n",
    "You are given an integer n. Your task is to return the first n rows of Floyd’s Triangle, represented as a list of strings. Floyd's Triangle is a triangular array of natural numbers where the first row contains 1, the second row contains 2 and 3, the third row contains 4, 5, and 6, and so on.\n",
    "Input:\n",
    "A single integer n, where 1 <= n <= 100.\n",
    "Output:\n",
    "A list of strings where each string represents a row in Floyd's Triangle.\n",
    "Example:\n",
    "Input: 5\n",
    "Output: ['1', '2 3', '4 5 6', '7 8 9 10', '11 12 13 14 15']\n",
    "Input: 3\n",
    "Output: ['1', '2 3', '4 5 6']\n",
    "    \"\"\"\n",
    "    # Your code here\n",
    "    lst=[]\n",
    "    for i in range(1,n+1):\n",
    "        for j in range(i+1):\n",
    "            lst.append(j)\n",
    "    return lst \n",
    "n=int(input(\"Enter a Number\"))\n",
    "print(generate_floyds_triangle(n))\n"
   ]
  },
  {
   "cell_type": "code",
   "execution_count": null,
   "metadata": {},
   "outputs": [],
   "source": []
  },
  {
   "cell_type": "code",
   "execution_count": null,
   "metadata": {},
   "outputs": [],
   "source": []
  },
  {
   "cell_type": "code",
   "execution_count": null,
   "metadata": {},
   "outputs": [],
   "source": []
  },
  {
   "cell_type": "code",
   "execution_count": null,
   "metadata": {},
   "outputs": [],
   "source": []
  },
  {
   "cell_type": "code",
   "execution_count": null,
   "metadata": {},
   "outputs": [],
   "source": []
  },
  {
   "cell_type": "code",
   "execution_count": null,
   "metadata": {},
   "outputs": [],
   "source": []
  },
  {
   "cell_type": "code",
   "execution_count": null,
   "metadata": {},
   "outputs": [],
   "source": []
  },
  {
   "cell_type": "code",
   "execution_count": null,
   "metadata": {},
   "outputs": [],
   "source": []
  },
  {
   "cell_type": "code",
   "execution_count": null,
   "metadata": {},
   "outputs": [],
   "source": []
  },
  {
   "cell_type": "code",
   "execution_count": null,
   "metadata": {},
   "outputs": [],
   "source": []
  },
  {
   "cell_type": "code",
   "execution_count": null,
   "metadata": {},
   "outputs": [],
   "source": []
  },
  {
   "cell_type": "code",
   "execution_count": null,
   "metadata": {},
   "outputs": [],
   "source": []
  },
  {
   "cell_type": "code",
   "execution_count": null,
   "metadata": {},
   "outputs": [],
   "source": []
  },
  {
   "cell_type": "code",
   "execution_count": null,
   "metadata": {},
   "outputs": [],
   "source": []
  },
  {
   "cell_type": "code",
   "execution_count": null,
   "metadata": {},
   "outputs": [],
   "source": []
  },
  {
   "cell_type": "code",
   "execution_count": null,
   "metadata": {},
   "outputs": [],
   "source": []
  },
  {
   "cell_type": "code",
   "execution_count": null,
   "metadata": {},
   "outputs": [],
   "source": []
  },
  {
   "cell_type": "code",
   "execution_count": null,
   "metadata": {},
   "outputs": [],
   "source": []
  },
  {
   "cell_type": "code",
   "execution_count": null,
   "metadata": {},
   "outputs": [],
   "source": []
  },
  {
   "cell_type": "code",
   "execution_count": null,
   "metadata": {},
   "outputs": [],
   "source": []
  },
  {
   "cell_type": "code",
   "execution_count": null,
   "metadata": {},
   "outputs": [],
   "source": []
  },
  {
   "cell_type": "code",
   "execution_count": null,
   "metadata": {},
   "outputs": [],
   "source": []
  },
  {
   "cell_type": "code",
   "execution_count": null,
   "metadata": {},
   "outputs": [],
   "source": []
  },
  {
   "cell_type": "code",
   "execution_count": null,
   "metadata": {},
   "outputs": [],
   "source": []
  },
  {
   "cell_type": "code",
   "execution_count": null,
   "metadata": {},
   "outputs": [],
   "source": []
  },
  {
   "cell_type": "code",
   "execution_count": null,
   "metadata": {},
   "outputs": [],
   "source": []
  },
  {
   "cell_type": "code",
   "execution_count": null,
   "metadata": {},
   "outputs": [],
   "source": []
  },
  {
   "cell_type": "code",
   "execution_count": null,
   "metadata": {},
   "outputs": [],
   "source": []
  },
  {
   "cell_type": "code",
   "execution_count": null,
   "metadata": {},
   "outputs": [],
   "source": []
  },
  {
   "cell_type": "code",
   "execution_count": null,
   "metadata": {},
   "outputs": [],
   "source": []
  },
  {
   "cell_type": "code",
   "execution_count": null,
   "metadata": {},
   "outputs": [],
   "source": []
  }
 ],
 "metadata": {
  "kernelspec": {
   "display_name": "venv",
   "language": "python",
   "name": "python3"
  },
  "language_info": {
   "codemirror_mode": {
    "name": "ipython",
    "version": 3
   },
   "file_extension": ".py",
   "mimetype": "text/x-python",
   "name": "python",
   "nbconvert_exporter": "python",
   "pygments_lexer": "ipython3",
   "version": "3.12.0"
  }
 },
 "nbformat": 4,
 "nbformat_minor": 2
}
