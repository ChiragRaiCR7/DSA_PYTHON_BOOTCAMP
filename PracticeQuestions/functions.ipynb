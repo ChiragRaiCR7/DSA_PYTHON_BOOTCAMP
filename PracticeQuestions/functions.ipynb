{
 "cells": [
  {
   "cell_type": "code",
   "execution_count": 1,
   "metadata": {},
   "outputs": [
    {
     "name": "stdout",
     "output_type": "stream",
     "text": [
      "2975157025\n"
     ]
    }
   ],
   "source": [
    "def square(n):\n",
    "    print(n**2)\n",
    "n=int(input(\"Enter a number\"))\n",
    "square(n)"
   ]
  },
  {
   "cell_type": "code",
   "execution_count": 4,
   "metadata": {},
   "outputs": [
    {
     "name": "stdout",
     "output_type": "stream",
     "text": [
      "59910\n"
     ]
    }
   ],
   "source": [
    "def sum(n,m):\n",
    "    print(n+m)\n",
    "n=int(input(\"Enter a number\"))\n",
    "m=int(input(\"Enter another number\"))\n",
    "sum(n,m)"
   ]
  },
  {
   "cell_type": "code",
   "execution_count": 31,
   "metadata": {},
   "outputs": [
    {
     "data": {
      "text/plain": [
       "'454545454545454545454545454545454545454545454545454545454545454545454545454545454545454545454545454545454545454545454545454545454545454545454545454545454545'"
      ]
     },
     "execution_count": 31,
     "metadata": {},
     "output_type": "execute_result"
    }
   ],
   "source": [
    "def multiply(n,m):\n",
    "    return n*m\n",
    "def multiply(n,m):\n",
    "    return n*str(m)\n",
    "n=int(input(\"Enter a number\"))\n",
    "m=input(\"Enter another number\")\n",
    "multiply(n,m)"
   ]
  },
  {
   "cell_type": "code",
   "execution_count": 12,
   "metadata": {},
   "outputs": [
    {
     "name": "stdout",
     "output_type": "stream",
     "text": [
      "AREA:  647532.5113873138\n",
      "Circumference:  2852.566129459532\n"
     ]
    }
   ],
   "source": [
    "import math\n",
    "def Area(r):\n",
    "    print(\"AREA: \",math.pi * (r**2))\n",
    "def Circumference(n):\n",
    "    print(\"Circumference: \",2* math.pi * r)\n",
    "r=int(input(\"Enter the radius\"))\n",
    "Area(r)\n",
    "Circumference(r)"
   ]
  },
  {
   "cell_type": "code",
   "execution_count": 14,
   "metadata": {},
   "outputs": [
    {
     "name": "stdout",
     "output_type": "stream",
     "text": [
      "Hello \n"
     ]
    }
   ],
   "source": [
    "def Greet(name=\"User\"):\n",
    "    print(f\"Hello {name}\")\n",
    "n=input(\"Enter your name\")\n",
    "Greet(n)"
   ]
  },
  {
   "cell_type": "code",
   "execution_count": 19,
   "metadata": {},
   "outputs": [
    {
     "name": "stdout",
     "output_type": "stream",
     "text": [
      "164999408648192\n"
     ]
    }
   ],
   "source": [
    "cube = lambda n: print(n**3) \n",
    "n=int(input(\"Enter a Number\"))\n",
    "cube(n)"
   ]
  },
  {
   "cell_type": "code",
   "execution_count": null,
   "metadata": {},
   "outputs": [],
   "source": []
  },
  {
   "cell_type": "code",
   "execution_count": null,
   "metadata": {},
   "outputs": [],
   "source": []
  }
 ],
 "metadata": {
  "kernelspec": {
   "display_name": "venv",
   "language": "python",
   "name": "python3"
  },
  "language_info": {
   "codemirror_mode": {
    "name": "ipython",
    "version": 3
   },
   "file_extension": ".py",
   "mimetype": "text/x-python",
   "name": "python",
   "nbconvert_exporter": "python",
   "pygments_lexer": "ipython3",
   "version": "3.12.0"
  }
 },
 "nbformat": 4,
 "nbformat_minor": 2
}
