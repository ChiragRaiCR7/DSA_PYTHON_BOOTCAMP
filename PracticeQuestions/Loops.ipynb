{
 "cells": [
  {
   "cell_type": "code",
   "execution_count": 1,
   "metadata": {},
   "outputs": [
    {
     "name": "stdout",
     "output_type": "stream",
     "text": [
      "[4456, 4545, 21311, 457]\n"
     ]
    }
   ],
   "source": [
    "numbers=[]\n",
    "while True:\n",
    "    num=input(\"Enter the numbers\")\n",
    "    if num in (\"\"):\n",
    "        break\n",
    "    elif num.isdigit():\n",
    "        numbers.append(int(num))\n",
    "    else:\n",
    "        print(\"Invalid Score\")\n",
    "print(numbers)"
   ]
  },
  {
   "cell_type": "code",
   "execution_count": 2,
   "metadata": {},
   "outputs": [
    {
     "name": "stdout",
     "output_type": "stream",
     "text": [
      "{45312312: 1, 45645: 1, 45324: 1, 121: 1, 1212: 1, 21: 1, 44444: 1}\n"
     ]
    }
   ],
   "source": [
    "numbers=[]\n",
    "frequency={}\n",
    "while True:\n",
    "    num=input(\"Enter a Number\")\n",
    "    if num in (\"\"):\n",
    "        break\n",
    "    elif num.isdigit():\n",
    "        numbers.append(int(num))\n",
    "for number in numbers:\n",
    "    if number in frequency:\n",
    "        frequency[number]+=1\n",
    "    else:\n",
    "        frequency[number]=1\n",
    "print(frequency)"
   ]
  },
  {
   "cell_type": "code",
   "execution_count": 3,
   "metadata": {},
   "outputs": [
    {
     "name": "stdout",
     "output_type": "stream",
     "text": [
      "[43343, 42, 423, 243, 42, 423134, 43, 4546, 54645, 3, 32]\n",
      "11\n"
     ]
    }
   ],
   "source": [
    "numbers=[]\n",
    "Posfreq={}\n",
    "count=0\n",
    "while True:\n",
    "    num=input(\"Enter Numbers\")\n",
    "    if num == \"\":\n",
    "        break\n",
    "    elif num.isalnum():\n",
    "        numbers.append(int(num))\n",
    "print(numbers)\n",
    "for number in numbers:\n",
    "    if number > 0 :\n",
    "        count+=1\n",
    "\n",
    "print(count)"
   ]
  },
  {
   "cell_type": "code",
   "execution_count": 4,
   "metadata": {},
   "outputs": [
    {
     "name": "stdout",
     "output_type": "stream",
     "text": [
      "[44354456, 456456564, 54, 5, 0, 5644443]\n"
     ]
    }
   ],
   "source": [
    "numbers=[]\n",
    "while True:\n",
    "    num=input(\"Enter Numbers\")\n",
    "    if num == \"\":\n",
    "        break\n",
    "    elif num.isdigit():\n",
    "        numbers.append(int(num))\n",
    "print(numbers)\n"
   ]
  },
  {
   "cell_type": "code",
   "execution_count": 5,
   "metadata": {},
   "outputs": [
    {
     "ename": "ValueError",
     "evalue": "invalid literal for int() with base 10: ''",
     "output_type": "error",
     "traceback": [
      "\u001b[1;31m---------------------------------------------------------------------------\u001b[0m",
      "\u001b[1;31mValueError\u001b[0m                                Traceback (most recent call last)",
      "Cell \u001b[1;32mIn[5], line 2\u001b[0m\n\u001b[0;32m      1\u001b[0m \u001b[38;5;28msum\u001b[39m\u001b[38;5;241m=\u001b[39m\u001b[38;5;241m0\u001b[39m\n\u001b[1;32m----> 2\u001b[0m n\u001b[38;5;241m=\u001b[39m\u001b[38;5;28;43mint\u001b[39;49m\u001b[43m(\u001b[49m\u001b[38;5;28;43minput\u001b[39;49m\u001b[43m(\u001b[49m\u001b[38;5;124;43m\"\u001b[39;49m\u001b[38;5;124;43mEnter the Upper Limit\u001b[39;49m\u001b[38;5;124;43m\"\u001b[39;49m\u001b[43m)\u001b[49m\u001b[43m)\u001b[49m\n\u001b[0;32m      3\u001b[0m \u001b[38;5;28;01mfor\u001b[39;00m i \u001b[38;5;129;01min\u001b[39;00m \u001b[38;5;28mrange\u001b[39m(\u001b[38;5;241m1\u001b[39m, n\u001b[38;5;241m+\u001b[39m\u001b[38;5;241m1\u001b[39m):\n\u001b[0;32m      4\u001b[0m     \u001b[38;5;28;01mif\u001b[39;00m i \u001b[38;5;241m%\u001b[39m \u001b[38;5;241m2\u001b[39m \u001b[38;5;241m==\u001b[39m \u001b[38;5;241m0\u001b[39m:\n",
      "\u001b[1;31mValueError\u001b[0m: invalid literal for int() with base 10: ''"
     ]
    }
   ],
   "source": [
    "sum=0\n",
    "n=int(input(\"Enter the Upper Limit\"))\n",
    "for i in range(1, n+1):\n",
    "    if i % 2 == 0:\n",
    "        sum+=i\n",
    "print(sum)"
   ]
  },
  {
   "cell_type": "code",
   "execution_count": 6,
   "metadata": {},
   "outputs": [],
   "source": [
    "n=int(input(\"Enter the Number\"))\n",
    "for i in range(1, 11):\n",
    "    if i == 5:\n",
    "        pass\n",
    "        # continue\n",
    "    else:\n",
    "        print(f\"{i} X {n} = {i*n}\")"
   ]
  },
  {
   "cell_type": "code",
   "execution_count": 6,
   "metadata": {},
   "outputs": [
    {
     "name": "stdout",
     "output_type": "stream",
     "text": [
      "Chirag\n",
      "garihC\n"
     ]
    }
   ],
   "source": [
    "txt=input(\"enter a String\")\n",
    "rev=\"\"\n",
    "print(txt)\n",
    "for char in txt:\n",
    "    rev=char + rev\n",
    "print(rev)\n"
   ]
  },
  {
   "cell_type": "code",
   "execution_count": 17,
   "metadata": {},
   "outputs": [
    {
     "name": "stdout",
     "output_type": "stream",
     "text": [
      "gfasdgfasgfasgfasgjhfggqgqqyqugrqhhweqgheuiqwhajksdajsbdgjhbbvnbvbvhggjp\n",
      "y\n"
     ]
    }
   ],
   "source": [
    "txt=input(\"enter a String\")\n",
    "ltr=\" \"\n",
    "print(txt)\n",
    "for char in txt:\n",
    "    if txt.count(char)==1:\n",
    "        print(char)\n",
    "        break"
   ]
  },
  {
   "cell_type": "code",
   "execution_count": 19,
   "metadata": {},
   "outputs": [
    {
     "name": "stdout",
     "output_type": "stream",
     "text": [
      "120\n"
     ]
    }
   ],
   "source": [
    "n=int(input(\"Enter the Number\"))\n",
    "sum=1\n",
    "while n>0:\n",
    "    sum*=n\n",
    "    n-=1\n",
    "print(sum)"
   ]
  },
  {
   "cell_type": "code",
   "execution_count": 23,
   "metadata": {},
   "outputs": [],
   "source": [
    "while True:\n",
    "    n=int(input(\"Enter the Number\"))\n",
    "    if n>=1 and n<=10:\n",
    "        break"
   ]
  },
  {
   "cell_type": "code",
   "execution_count": 6,
   "metadata": {},
   "outputs": [
    {
     "data": {
      "text/plain": [
       "False"
      ]
     },
     "execution_count": 6,
     "metadata": {},
     "output_type": "execute_result"
    }
   ],
   "source": [
    "def prime_Checker():\n",
    "    n=int(input(\"Enter a Number \"))\n",
    "    if n >1:\n",
    "        for i in range (2, n):\n",
    "            if n % i == 0:\n",
    "                return False\n",
    "            else:\n",
    "                return True\n",
    "prime_Checker()\n"
   ]
  },
  {
   "cell_type": "code",
   "execution_count": 10,
   "metadata": {},
   "outputs": [
    {
     "name": "stdout",
     "output_type": "stream",
     "text": [
      "[]\n"
     ]
    }
   ],
   "source": [
    "items = []\n",
    "while True:\n",
    "    item=input(\"Enter the items\")\n",
    "    if item == \"\":\n",
    "        break\n",
    "    elif item.isalnum():\n",
    "        items.append(item)\n",
    "print(items)\n",
    "for item in items:\n",
    "    if items.count(item) == 1:\n",
    "        continue\n",
    "    else:\n",
    "        print(item)\n",
    "        exit"
   ]
  },
  {
   "cell_type": "code",
   "execution_count": null,
   "metadata": {},
   "outputs": [],
   "source": []
  },
  {
   "cell_type": "code",
   "execution_count": null,
   "metadata": {},
   "outputs": [],
   "source": []
  },
  {
   "cell_type": "code",
   "execution_count": null,
   "metadata": {},
   "outputs": [],
   "source": []
  },
  {
   "cell_type": "code",
   "execution_count": null,
   "metadata": {},
   "outputs": [],
   "source": []
  },
  {
   "cell_type": "code",
   "execution_count": null,
   "metadata": {},
   "outputs": [],
   "source": []
  },
  {
   "cell_type": "code",
   "execution_count": null,
   "metadata": {},
   "outputs": [],
   "source": []
  },
  {
   "cell_type": "code",
   "execution_count": null,
   "metadata": {},
   "outputs": [],
   "source": []
  },
  {
   "cell_type": "code",
   "execution_count": null,
   "metadata": {},
   "outputs": [],
   "source": []
  }
 ],
 "metadata": {
  "kernelspec": {
   "display_name": "venv",
   "language": "python",
   "name": "python3"
  },
  "language_info": {
   "codemirror_mode": {
    "name": "ipython",
    "version": 3
   },
   "file_extension": ".py",
   "mimetype": "text/x-python",
   "name": "python",
   "nbconvert_exporter": "python",
   "pygments_lexer": "ipython3",
   "version": "3.12.0"
  }
 },
 "nbformat": 4,
 "nbformat_minor": 2
}
