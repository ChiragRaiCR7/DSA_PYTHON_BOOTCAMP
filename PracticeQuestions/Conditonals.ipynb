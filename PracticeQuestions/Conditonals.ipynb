{
 "cells": [
  {
   "cell_type": "code",
   "execution_count": null,
   "metadata": {},
   "outputs": [
    {
     "name": "stdout",
     "output_type": "stream",
     "text": [
      "Teenager\n"
     ]
    }
   ],
   "source": [
    "# AGE Group categorisation Problem\n",
    "age=int(input(\"Enter the age of the person\"))\n",
    "if age < 13:\n",
    "    print(\"Child\")\n",
    "elif age>=13 and age<=19:\n",
    "    print (\"Teenager\")\n",
    "elif age>=20 and age<=59:\n",
    "    print(\"ADULT\")\n",
    "else:\n",
    "    print(\"Senior\")"
   ]
  },
  {
   "cell_type": "code",
   "execution_count": 49,
   "metadata": {},
   "outputs": [
    {
     "name": "stdout",
     "output_type": "stream",
     "text": [
      "6\n"
     ]
    }
   ],
   "source": [
    "age=int(input(\"Enter the age of the person\"))\n",
    "day=input(\"Enter the day\")\n",
    "price=0\n",
    "if age < 18:\n",
    "    price=8\n",
    "else:\n",
    "    price=12\n",
    "if day.lower() == 'wednesday':\n",
    "    price=price-2\n",
    "print(price)"
   ]
  },
  {
   "cell_type": "code",
   "execution_count": 8,
   "metadata": {},
   "outputs": [
    {
     "name": "stdout",
     "output_type": "stream",
     "text": [
      "A\n"
     ]
    }
   ],
   "source": [
    "marks=int(input(\"Enter The marks of the Student\"))\n",
    "if marks>=90 and marks<=100:\n",
    "    print(\"A\")\n",
    "elif marks>=80 and marks<=89:\n",
    "    print(\"B\")\n",
    "elif marks>=70 and marks<=79:\n",
    "    print(\"C\")\n",
    "elif marks>=60 and marks<=69:\n",
    "    print(\"D\")\n",
    "else:\n",
    "    print(\"F\")"
   ]
  },
  {
   "cell_type": "code",
   "execution_count": null,
   "metadata": {},
   "outputs": [
    {
     "name": "stdout",
     "output_type": "stream",
     "text": [
      "Overripe\n"
     ]
    }
   ],
   "source": [
    "Fruit=input(\"Enter the FRUIT NAME\")\n",
    "colour=input(\"Enter the COLOUR of FRUIT\")\n",
    "colour=colour.lower()\n",
    "if colour==\"green\":\n",
    "    print(\"Unripe\")\n",
    "elif colour==\"yellow\":\n",
    "    print(\"Ripe\")\n",
    "elif colour == \"brown\":\n",
    "    print(\"Overripe\")"
   ]
  },
  {
   "cell_type": "code",
   "execution_count": 16,
   "metadata": {},
   "outputs": [
    {
     "name": "stdout",
     "output_type": "stream",
     "text": [
      "GO for a Walk\n"
     ]
    }
   ],
   "source": [
    "Weather=input(\"Enter the Weather\")\n",
    "weather=Weather.lower()\n",
    "if weather==\"sunny\":\n",
    "    print(\"GO for a Walk\")\n",
    "elif weather==\"rainy\":\n",
    "    print(\"Read a Book\")\n",
    "elif weather == \"snowy\":\n",
    "    print(\"Build a Snowman\")"
   ]
  },
  {
   "cell_type": "code",
   "execution_count": 19,
   "metadata": {},
   "outputs": [
    {
     "name": "stdout",
     "output_type": "stream",
     "text": [
      "Bike\n"
     ]
    }
   ],
   "source": [
    "distance=int(input(\"Enter the Distance to travel\"))\n",
    "if distance < 3:\n",
    "    print(\"Walk\")\n",
    "elif distance>=3 and distance<=15:\n",
    "    print (\"Bike\")\n",
    "else:\n",
    "    print(\"Car\")"
   ]
  },
  {
   "cell_type": "code",
   "execution_count": 25,
   "metadata": {},
   "outputs": [
    {
     "name": "stdout",
     "output_type": "stream",
     "text": [
      "Large Coffee with an Espresso Shot\n"
     ]
    }
   ],
   "source": [
    "Coffee=input(\"Enter the Coffee\")\n",
    "coffee=Coffee.lower()\n",
    "Espresso=bool(input(\"Enter true or false\"))\n",
    "if coffee==\"small\":\n",
    "    order=\"Small\"\n",
    "elif coffee==\"medium\":\n",
    "    order=\"Medium\"\n",
    "elif coffee == \"large\":\n",
    "    order=\"Large\"\n",
    "if Espresso == True:\n",
    "    print(order,\"Coffee with an Espresso Shot\")\n",
    "else:\n",
    "    print(order,\"Coffee\")"
   ]
  },
  {
   "cell_type": "code",
   "execution_count": 30,
   "metadata": {},
   "outputs": [
    {
     "name": "stdout",
     "output_type": "stream",
     "text": [
      "Medium\n"
     ]
    }
   ],
   "source": [
    "Password=input(\"Enter the password\")\n",
    "Pass_len=len(Password)\n",
    "if Pass_len<=6:\n",
    "    print(\"Weak\")\n",
    "elif Pass_len>6 and Pass_len<=10:\n",
    "    print(\"Medium\")\n",
    "else:\n",
    "    print(\"Strong\")"
   ]
  },
  {
   "cell_type": "code",
   "execution_count": 38,
   "metadata": {},
   "outputs": [
    {
     "name": "stdout",
     "output_type": "stream",
     "text": [
      "Leap Year\n"
     ]
    }
   ],
   "source": [
    "year=int(input(\"Enter the Year\"))\n",
    "if (year % 400 == 0) or (year % 4==0 and year % 100 != 0):\n",
    "    print(\"Leap Year\")\n",
    "else:\n",
    "    print(\"Not a Leap Year\")"
   ]
  },
  {
   "cell_type": "code",
   "execution_count": 41,
   "metadata": {},
   "outputs": [
    {
     "name": "stdout",
     "output_type": "stream",
     "text": [
      "Dog FOOD\n"
     ]
    }
   ],
   "source": [
    "age=int(input(\"Enter the age of the Animal\"))\n",
    "if age <2:\n",
    "    print(\"Puppy FOOD\")\n",
    "elif age>=3 and age<=15:\n",
    "    print (\"Dog FOOD\")"
   ]
  },
  {
   "cell_type": "code",
   "execution_count": null,
   "metadata": {},
   "outputs": [],
   "source": []
  },
  {
   "cell_type": "code",
   "execution_count": null,
   "metadata": {},
   "outputs": [],
   "source": []
  },
  {
   "cell_type": "code",
   "execution_count": null,
   "metadata": {},
   "outputs": [],
   "source": []
  },
  {
   "cell_type": "code",
   "execution_count": null,
   "metadata": {},
   "outputs": [],
   "source": []
  },
  {
   "cell_type": "code",
   "execution_count": null,
   "metadata": {},
   "outputs": [],
   "source": []
  },
  {
   "cell_type": "code",
   "execution_count": null,
   "metadata": {},
   "outputs": [],
   "source": []
  },
  {
   "cell_type": "code",
   "execution_count": null,
   "metadata": {},
   "outputs": [],
   "source": []
  },
  {
   "cell_type": "code",
   "execution_count": null,
   "metadata": {},
   "outputs": [],
   "source": []
  },
  {
   "cell_type": "code",
   "execution_count": null,
   "metadata": {},
   "outputs": [],
   "source": []
  },
  {
   "cell_type": "code",
   "execution_count": null,
   "metadata": {},
   "outputs": [],
   "source": []
  },
  {
   "cell_type": "code",
   "execution_count": null,
   "metadata": {},
   "outputs": [],
   "source": []
  },
  {
   "cell_type": "code",
   "execution_count": null,
   "metadata": {},
   "outputs": [],
   "source": []
  },
  {
   "cell_type": "code",
   "execution_count": null,
   "metadata": {},
   "outputs": [],
   "source": []
  },
  {
   "cell_type": "code",
   "execution_count": null,
   "metadata": {},
   "outputs": [],
   "source": []
  }
 ],
 "metadata": {
  "kernelspec": {
   "display_name": "venv",
   "language": "python",
   "name": "python3"
  },
  "language_info": {
   "codemirror_mode": {
    "name": "ipython",
    "version": 3
   },
   "file_extension": ".py",
   "mimetype": "text/x-python",
   "name": "python",
   "nbconvert_exporter": "python",
   "pygments_lexer": "ipython3",
   "version": "3.12.0"
  }
 },
 "nbformat": 4,
 "nbformat_minor": 2
}
